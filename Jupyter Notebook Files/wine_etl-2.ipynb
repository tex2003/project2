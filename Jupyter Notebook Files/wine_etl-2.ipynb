{
 "cells": [
  {
   "cell_type": "code",
   "execution_count": 1,
   "metadata": {},
   "outputs": [],
   "source": [
    "import pandas as pd\n",
    "from sqlalchemy import create_engine"
   ]
  },
  {
   "cell_type": "markdown",
   "metadata": {
    "slideshow": {
     "slide_type": "-"
    }
   },
   "source": [
    "### Store CSV into DataFrame"
   ]
  },
  {
   "cell_type": "code",
   "execution_count": 2,
   "metadata": {},
   "outputs": [],
   "source": [
    "csv_file = \"../Raw_Data/winemag-data-130k-v2.csv\"\n",
    "wine_data_df = pd.read_csv(csv_file)"
   ]
  },
  {
   "cell_type": "markdown",
   "metadata": {},
   "source": [
    "### Create new data with select columns"
   ]
  },
  {
   "cell_type": "code",
   "execution_count": 3,
   "metadata": {},
   "outputs": [],
   "source": [
    "new_wine_data_df = wine_data_df[['country', 'points', 'price', 'province', 'title', 'variety']].copy()"
   ]
  },
  {
   "cell_type": "markdown",
   "metadata": {},
   "source": [
    "### Filter by Country = US"
   ]
  },
  {
   "cell_type": "code",
   "execution_count": 4,
   "metadata": {},
   "outputs": [],
   "source": [
    "US_wine_data_df = new_wine_data_df.loc[new_wine_data_df['country'] == 'US']    "
   ]
  },
  {
   "cell_type": "markdown",
   "metadata": {},
   "source": [
    "### Drop Country Column and Reorder Columns"
   ]
  },
  {
   "cell_type": "code",
   "execution_count": 5,
   "metadata": {},
   "outputs": [],
   "source": [
    "province_wine_data_df = US_wine_data_df[['province', 'variety', 'title', 'points', 'price']]"
   ]
  },
  {
   "cell_type": "markdown",
   "metadata": {},
   "source": [
    "### Rename Province Column as State"
   ]
  },
  {
   "cell_type": "code",
   "execution_count": 6,
   "metadata": {},
   "outputs": [],
   "source": [
    "state_wine_data_df = province_wine_data_df.rename(columns = {\"province\": \"State\", \"variety\" : \"Varietal\", \"points\" : \"Points\", \"price\": \"Price\", \"title\" : \"Wine\"})"
   ]
  },
  {
   "cell_type": "markdown",
   "metadata": {},
   "source": [
    "### Sort Data by State, Varietal and Points"
   ]
  },
  {
   "cell_type": "code",
   "execution_count": 7,
   "metadata": {},
   "outputs": [],
   "source": [
    "sorted_wine_data_df = state_wine_data_df.sort_values(['State', 'Varietal','Points'], ascending=[1, 1, 0])"
   ]
  },
  {
   "cell_type": "markdown",
   "metadata": {},
   "source": [
    "### Filter on Selected States"
   ]
  },
  {
   "cell_type": "code",
   "execution_count": 8,
   "metadata": {},
   "outputs": [],
   "source": [
    "states = [\"California\",\"Washington\",\"Oregon\", \"New York\", \"Virginia\", \"Idaho\", \"Michigan\", \"Texas\"]\n",
    "selected_state_wine_data_df=sorted_wine_data_df.loc[sorted_wine_data_df['State'].isin(states)]  "
   ]
  },
  {
   "cell_type": "markdown",
   "metadata": {},
   "source": [
    "### Set Index"
   ]
  },
  {
   "cell_type": "code",
   "execution_count": 9,
   "metadata": {},
   "outputs": [
    {
     "data": {
      "text/html": [
       "<div>\n",
       "<style scoped>\n",
       "    .dataframe tbody tr th:only-of-type {\n",
       "        vertical-align: middle;\n",
       "    }\n",
       "\n",
       "    .dataframe tbody tr th {\n",
       "        vertical-align: top;\n",
       "    }\n",
       "\n",
       "    .dataframe thead th {\n",
       "        text-align: right;\n",
       "    }\n",
       "</style>\n",
       "<table border=\"1\" class=\"dataframe\">\n",
       "  <thead>\n",
       "    <tr style=\"text-align: right;\">\n",
       "      <th></th>\n",
       "      <th>Varietal</th>\n",
       "      <th>Wine</th>\n",
       "      <th>Points</th>\n",
       "      <th>Price</th>\n",
       "    </tr>\n",
       "    <tr>\n",
       "      <th>State</th>\n",
       "      <th></th>\n",
       "      <th></th>\n",
       "      <th></th>\n",
       "      <th></th>\n",
       "    </tr>\n",
       "  </thead>\n",
       "  <tbody>\n",
       "    <tr>\n",
       "      <th>California</th>\n",
       "      <td>Abouriou</td>\n",
       "      <td>Cerridwen 2012 Moonlight Sonata Abouriou (Russ...</td>\n",
       "      <td>85</td>\n",
       "      <td>75.0</td>\n",
       "    </tr>\n",
       "    <tr>\n",
       "      <th>California</th>\n",
       "      <td>Aglianico</td>\n",
       "      <td>Giornata 2012 French Camp Vineyard Aglianico (...</td>\n",
       "      <td>92</td>\n",
       "      <td>30.0</td>\n",
       "    </tr>\n",
       "    <tr>\n",
       "      <th>California</th>\n",
       "      <td>Aglianico</td>\n",
       "      <td>Giornata 2014 Luna Matta Vineyard Aglianico (P...</td>\n",
       "      <td>92</td>\n",
       "      <td>45.0</td>\n",
       "    </tr>\n",
       "    <tr>\n",
       "      <th>California</th>\n",
       "      <td>Aglianico</td>\n",
       "      <td>Rosa d'Oro 2012 Aglianico (Clear Lake)</td>\n",
       "      <td>92</td>\n",
       "      <td>28.0</td>\n",
       "    </tr>\n",
       "    <tr>\n",
       "      <th>California</th>\n",
       "      <td>Aglianico</td>\n",
       "      <td>Monte Volpe 2012 Aglianico (Mendocino)</td>\n",
       "      <td>92</td>\n",
       "      <td>28.0</td>\n",
       "    </tr>\n",
       "  </tbody>\n",
       "</table>\n",
       "</div>"
      ],
      "text/plain": [
       "             Varietal                                               Wine  \\\n",
       "State                                                                      \n",
       "California   Abouriou  Cerridwen 2012 Moonlight Sonata Abouriou (Russ...   \n",
       "California  Aglianico  Giornata 2012 French Camp Vineyard Aglianico (...   \n",
       "California  Aglianico  Giornata 2014 Luna Matta Vineyard Aglianico (P...   \n",
       "California  Aglianico             Rosa d'Oro 2012 Aglianico (Clear Lake)   \n",
       "California  Aglianico             Monte Volpe 2012 Aglianico (Mendocino)   \n",
       "\n",
       "            Points  Price  \n",
       "State                      \n",
       "California      85   75.0  \n",
       "California      92   30.0  \n",
       "California      92   45.0  \n",
       "California      92   28.0  \n",
       "California      92   28.0  "
      ]
     },
     "execution_count": 9,
     "metadata": {},
     "output_type": "execute_result"
    }
   ],
   "source": [
    "cleaned_wine_data_df = selected_state_wine_data_df.set_index('State', drop=True)\n",
    "cleaned_wine_data_df.head()"
   ]
  },
  {
   "cell_type": "markdown",
   "metadata": {},
   "source": [
    "### Write new CSV"
   ]
  },
  {
   "cell_type": "code",
   "execution_count": 10,
   "metadata": {},
   "outputs": [],
   "source": [
    "cleaned_wine_data_df.to_csv(\"../Raw_Data/wine_data_cleaned.csv\", index=True, header=True)"
   ]
  }
 ],
 "metadata": {
  "kernelspec": {
   "display_name": "ut_data",
   "language": "python",
   "name": "ut_data"
  },
  "language_info": {
   "codemirror_mode": {
    "name": "ipython",
    "version": 3
   },
   "file_extension": ".py",
   "mimetype": "text/x-python",
   "name": "python",
   "nbconvert_exporter": "python",
   "pygments_lexer": "ipython3",
   "version": "3.7.2"
  }
 },
 "nbformat": 4,
 "nbformat_minor": 2
}
