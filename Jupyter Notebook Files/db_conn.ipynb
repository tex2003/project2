{
 "cells": [
  {
   "cell_type": "code",
   "execution_count": 1,
   "metadata": {},
   "outputs": [],
   "source": [
    "import pandas as pd\n",
    "from sqlalchemy import create_engine\n",
    "import pymysql\n",
    "pymysql.install_as_MySQLdb()"
   ]
  },
  {
   "cell_type": "markdown",
   "metadata": {},
   "source": [
    "### Connect to local database"
   ]
  },
  {
   "cell_type": "code",
   "execution_count": 2,
   "metadata": {},
   "outputs": [],
   "source": [
    "engine = create_engine(\"mysql://root@localhost/wine_db\")"
   ]
  },
  {
   "cell_type": "markdown",
   "metadata": {},
   "source": [
    "### Check for tables"
   ]
  },
  {
   "cell_type": "code",
   "execution_count": 3,
   "metadata": {},
   "outputs": [
    {
     "data": {
      "text/plain": [
       "['Wine_Data']"
      ]
     },
     "execution_count": 3,
     "metadata": {},
     "output_type": "execute_result"
    }
   ],
   "source": [
    "engine.table_names()"
   ]
  },
  {
   "cell_type": "markdown",
   "metadata": {},
   "source": [
    "### Read in cleaned wine csv"
   ]
  },
  {
   "cell_type": "code",
   "execution_count": 4,
   "metadata": {},
   "outputs": [
    {
     "data": {
      "text/html": [
       "<div>\n",
       "<style scoped>\n",
       "    .dataframe tbody tr th:only-of-type {\n",
       "        vertical-align: middle;\n",
       "    }\n",
       "\n",
       "    .dataframe tbody tr th {\n",
       "        vertical-align: top;\n",
       "    }\n",
       "\n",
       "    .dataframe thead th {\n",
       "        text-align: right;\n",
       "    }\n",
       "</style>\n",
       "<table border=\"1\" class=\"dataframe\">\n",
       "  <thead>\n",
       "    <tr style=\"text-align: right;\">\n",
       "      <th></th>\n",
       "      <th>State</th>\n",
       "      <th>Varietal</th>\n",
       "      <th>Wine</th>\n",
       "      <th>Points</th>\n",
       "      <th>Price</th>\n",
       "    </tr>\n",
       "  </thead>\n",
       "  <tbody>\n",
       "    <tr>\n",
       "      <th>0</th>\n",
       "      <td>California</td>\n",
       "      <td>Abouriou</td>\n",
       "      <td>Cerridwen 2012 Moonlight Sonata Abouriou (Russ...</td>\n",
       "      <td>85</td>\n",
       "      <td>75.0</td>\n",
       "    </tr>\n",
       "    <tr>\n",
       "      <th>1</th>\n",
       "      <td>California</td>\n",
       "      <td>Aglianico</td>\n",
       "      <td>Giornata 2012 French Camp Vineyard Aglianico (...</td>\n",
       "      <td>92</td>\n",
       "      <td>30.0</td>\n",
       "    </tr>\n",
       "    <tr>\n",
       "      <th>2</th>\n",
       "      <td>California</td>\n",
       "      <td>Aglianico</td>\n",
       "      <td>Giornata 2014 Luna Matta Vineyard Aglianico (P...</td>\n",
       "      <td>92</td>\n",
       "      <td>45.0</td>\n",
       "    </tr>\n",
       "    <tr>\n",
       "      <th>3</th>\n",
       "      <td>California</td>\n",
       "      <td>Aglianico</td>\n",
       "      <td>Rosa d'Oro 2012 Aglianico (Clear Lake)</td>\n",
       "      <td>92</td>\n",
       "      <td>28.0</td>\n",
       "    </tr>\n",
       "    <tr>\n",
       "      <th>4</th>\n",
       "      <td>California</td>\n",
       "      <td>Aglianico</td>\n",
       "      <td>Monte Volpe 2012 Aglianico (Mendocino)</td>\n",
       "      <td>92</td>\n",
       "      <td>28.0</td>\n",
       "    </tr>\n",
       "  </tbody>\n",
       "</table>\n",
       "</div>"
      ],
      "text/plain": [
       "        State   Varietal                                               Wine  \\\n",
       "0  California   Abouriou  Cerridwen 2012 Moonlight Sonata Abouriou (Russ...   \n",
       "1  California  Aglianico  Giornata 2012 French Camp Vineyard Aglianico (...   \n",
       "2  California  Aglianico  Giornata 2014 Luna Matta Vineyard Aglianico (P...   \n",
       "3  California  Aglianico             Rosa d'Oro 2012 Aglianico (Clear Lake)   \n",
       "4  California  Aglianico             Monte Volpe 2012 Aglianico (Mendocino)   \n",
       "\n",
       "   Points  Price  \n",
       "0      85   75.0  \n",
       "1      92   30.0  \n",
       "2      92   45.0  \n",
       "3      92   28.0  \n",
       "4      92   28.0  "
      ]
     },
     "execution_count": 4,
     "metadata": {},
     "output_type": "execute_result"
    }
   ],
   "source": [
    "csv_file = \"../Raw_Data/wine_data_cleaned.csv\"\n",
    "wine_data_cleaned_df = pd.read_csv(csv_file)\n",
    "wine_data_cleaned_df.head()"
   ]
  },
  {
   "cell_type": "markdown",
   "metadata": {},
   "source": [
    "### Use pandas to load csv converted DataFrame into database"
   ]
  },
  {
   "cell_type": "code",
   "execution_count": 5,
   "metadata": {},
   "outputs": [],
   "source": [
    "wine_data_cleaned_df.to_sql(name='Wine_Data', con=engine, if_exists='append', index=False)"
   ]
  },
  {
   "cell_type": "markdown",
   "metadata": {},
   "source": [
    "### Confirm data has been added"
   ]
  },
  {
   "cell_type": "code",
   "execution_count": 6,
   "metadata": {},
   "outputs": [
    {
     "data": {
      "text/html": [
       "<div>\n",
       "<style scoped>\n",
       "    .dataframe tbody tr th:only-of-type {\n",
       "        vertical-align: middle;\n",
       "    }\n",
       "\n",
       "    .dataframe tbody tr th {\n",
       "        vertical-align: top;\n",
       "    }\n",
       "\n",
       "    .dataframe thead th {\n",
       "        text-align: right;\n",
       "    }\n",
       "</style>\n",
       "<table border=\"1\" class=\"dataframe\">\n",
       "  <thead>\n",
       "    <tr style=\"text-align: right;\">\n",
       "      <th></th>\n",
       "      <th>id</th>\n",
       "      <th>state</th>\n",
       "      <th>varietal</th>\n",
       "      <th>wine</th>\n",
       "      <th>points</th>\n",
       "      <th>price</th>\n",
       "    </tr>\n",
       "  </thead>\n",
       "  <tbody>\n",
       "    <tr>\n",
       "      <th>0</th>\n",
       "      <td>1</td>\n",
       "      <td>California</td>\n",
       "      <td>Abouriou</td>\n",
       "      <td>Cerridwen 2012 Moonlight Sonata Abouriou (Russ...</td>\n",
       "      <td>85</td>\n",
       "      <td>75.0</td>\n",
       "    </tr>\n",
       "    <tr>\n",
       "      <th>1</th>\n",
       "      <td>2</td>\n",
       "      <td>California</td>\n",
       "      <td>Aglianico</td>\n",
       "      <td>Giornata 2012 French Camp Vineyard Aglianico (...</td>\n",
       "      <td>92</td>\n",
       "      <td>30.0</td>\n",
       "    </tr>\n",
       "    <tr>\n",
       "      <th>2</th>\n",
       "      <td>3</td>\n",
       "      <td>California</td>\n",
       "      <td>Aglianico</td>\n",
       "      <td>Giornata 2014 Luna Matta Vineyard Aglianico (P...</td>\n",
       "      <td>92</td>\n",
       "      <td>45.0</td>\n",
       "    </tr>\n",
       "    <tr>\n",
       "      <th>3</th>\n",
       "      <td>4</td>\n",
       "      <td>California</td>\n",
       "      <td>Aglianico</td>\n",
       "      <td>Rosa d'Oro 2012 Aglianico (Clear Lake)</td>\n",
       "      <td>92</td>\n",
       "      <td>28.0</td>\n",
       "    </tr>\n",
       "    <tr>\n",
       "      <th>4</th>\n",
       "      <td>5</td>\n",
       "      <td>California</td>\n",
       "      <td>Aglianico</td>\n",
       "      <td>Monte Volpe 2012 Aglianico (Mendocino)</td>\n",
       "      <td>92</td>\n",
       "      <td>28.0</td>\n",
       "    </tr>\n",
       "  </tbody>\n",
       "</table>\n",
       "</div>"
      ],
      "text/plain": [
       "   id       state   varietal  \\\n",
       "0   1  California   Abouriou   \n",
       "1   2  California  Aglianico   \n",
       "2   3  California  Aglianico   \n",
       "3   4  California  Aglianico   \n",
       "4   5  California  Aglianico   \n",
       "\n",
       "                                                wine  points  price  \n",
       "0  Cerridwen 2012 Moonlight Sonata Abouriou (Russ...      85   75.0  \n",
       "1  Giornata 2012 French Camp Vineyard Aglianico (...      92   30.0  \n",
       "2  Giornata 2014 Luna Matta Vineyard Aglianico (P...      92   45.0  \n",
       "3             Rosa d'Oro 2012 Aglianico (Clear Lake)      92   28.0  \n",
       "4             Monte Volpe 2012 Aglianico (Mendocino)      92   28.0  "
      ]
     },
     "execution_count": 6,
     "metadata": {},
     "output_type": "execute_result"
    }
   ],
   "source": [
    "pd.read_sql_query('select * from Wine_Data', con=engine).head()"
   ]
  },
  {
   "cell_type": "code",
   "execution_count": null,
   "metadata": {},
   "outputs": [],
   "source": []
  }
 ],
 "metadata": {
  "kernelspec": {
   "display_name": "ut_data",
   "language": "python",
   "name": "ut_data"
  },
  "language_info": {
   "codemirror_mode": {
    "name": "ipython",
    "version": 3
   },
   "file_extension": ".py",
   "mimetype": "text/x-python",
   "name": "python",
   "nbconvert_exporter": "python",
   "pygments_lexer": "ipython3",
   "version": "3.7.2"
  }
 },
 "nbformat": 4,
 "nbformat_minor": 2
}
