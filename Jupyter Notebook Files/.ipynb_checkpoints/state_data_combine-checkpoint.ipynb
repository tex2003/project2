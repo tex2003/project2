{
 "cells": [
  {
   "cell_type": "code",
   "execution_count": 2,
   "metadata": {},
   "outputs": [],
   "source": [
    "import pandas as pd\n",
    "from sqlalchemy import create_engine"
   ]
  },
  {
   "cell_type": "markdown",
   "metadata": {},
   "source": [
    "## Read in CSVs to combine"
   ]
  },
  {
   "cell_type": "code",
   "execution_count": 4,
   "metadata": {},
   "outputs": [],
   "source": [
    "humid_csv = \"../Raw_Data/state_humid.csv\"\n",
    "humid_df = pd.read_csv(humid_csv,encoding = \"ISO-8859-1\") \n",
    "\n",
    "temp_csv = \"../Raw_Data/state_temp.csv\"\n",
    "temp_df = pd.read_csv(temp_csv,encoding = \"ISO-8859-1\") \n",
    "\n",
    "rain_csv = \"../Raw_Data/state_rain.csv\"\n",
    "rain_df = pd.read_csv(rain_csv,encoding = \"ISO-8859-1\") \n",
    "\n",
    "sun_csv = \"../Raw_Data/state_sun.csv\"\n",
    "sun_df = pd.read_csv(sun_csv,encoding = \"ISO-8859-1\") "
   ]
  },
  {
   "cell_type": "code",
   "execution_count": null,
   "metadata": {},
   "outputs": [],
   "source": []
  }
 ],
 "metadata": {
  "kernelspec": {
   "display_name": "ut_data",
   "language": "python",
   "name": "ut_data"
  },
  "language_info": {
   "codemirror_mode": {
    "name": "ipython",
    "version": 3
   },
   "file_extension": ".py",
   "mimetype": "text/x-python",
   "name": "python",
   "nbconvert_exporter": "python",
   "pygments_lexer": "ipython3",
   "version": "3.7.0"
  }
 },
 "nbformat": 4,
 "nbformat_minor": 2
}
